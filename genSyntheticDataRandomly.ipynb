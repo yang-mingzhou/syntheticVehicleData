{
 "cells": [
  {
   "cell_type": "code",
   "execution_count": 1,
   "id": "english-holder",
   "metadata": {},
   "outputs": [
    {
     "name": "stderr",
     "output_type": "stream",
     "text": [
      "2024-03-06 20:41:56.180 | calibration.py:38 | WARNING: No module named 'pymoo'\n",
      "Try running `pip install pymoo==0.6.0.1` to use all features in `fastsim.calibration`\n"
     ]
    }
   ],
   "source": [
    "import pandas as pd\n",
    "import matplotlib.pyplot as plt\n",
    "import ast\n",
    "import matplotlib.dates as mdates\n",
    "import sumolib\n",
    "import osmnx as ox\n",
    "\n",
    "import sys\n",
    "import os\n",
    "import glob\n",
    "import random\n",
    "import logging\n",
    "import subprocess\n",
    "import numpy as np\n",
    "\n",
    "from fastsim import simdrive, vehicle, cycle\n",
    "from fastsim import parameters as params\n",
    "\n",
    "import traci\n",
    "import time\n",
    "import csv\n",
    "\n",
    "import xml.etree.ElementTree as ET\n",
    "import xml.dom.minidom\n",
    "\n",
    "from datetime import datetime, timedelta\n",
    "\n",
    "import utils.simulation as sim \n",
    "from utils.featureExtraction import feature_extraction\n",
    "# postprocessing to edge level\n",
    "from utils.postprocessing import process_edge_gdf, process_one_file, edge_list_to_node_list"
   ]
  },
  {
   "cell_type": "code",
   "execution_count": 2,
   "id": "higher-promotion",
   "metadata": {},
   "outputs": [],
   "source": [
    "number_of_trips = 5\n",
    "\n",
    "data_file_folder = \"data\"\n",
    "results_file_folder = \"results\"\n",
    "\n",
    "edge_level_data_folder = os.path.join(data_file_folder, \"processed/synthetic\")\n",
    "results_data_file_folder = os.path.join(data_file_folder, \"features/synthetic\")\n",
    "\n",
    "os.makedirs(edge_level_data_folder, exist_ok=True)  # Create the destination folder if it doesn't exist\n",
    "os.makedirs(results_data_file_folder, exist_ok=True) "
   ]
  },
  {
   "cell_type": "code",
   "execution_count": 3,
   "id": "completed-analysis",
   "metadata": {},
   "outputs": [],
   "source": [
    "# Set SUMO_HOME; revise it according to the path to the site-packages folder of SUMO  \n",
    "os.environ['PATH'] += \":/home/shekhars/yang7492/.conda/envs/syntheticData/lib/python3.8/site-packages/sumo/bin\"\n",
    "os.environ['SUMO_HOME'] = '/home/shekhars/yang7492/.conda/envs/syntheticData/lib/python3.8/site-packages/sumo'"
   ]
  },
  {
   "cell_type": "code",
   "execution_count": 4,
   "id": "formed-engineer",
   "metadata": {},
   "outputs": [],
   "source": [
    "# load openstreet map:\n",
    "osm_file_path = os.path.join(data_file_folder, \"maps/minneapolis.graphml\")\n",
    "osmnx_net = ox.io.load_graphml(osm_file_path)\n",
    "node_gdf, edge_gdf = ox.utils_graph.graph_to_gdfs(osmnx_net)"
   ]
  },
  {
   "cell_type": "code",
   "execution_count": 5,
   "id": "determined-citizen",
   "metadata": {},
   "outputs": [],
   "source": [
    "# load sumo map:\n",
    "net_file = os.path.join(data_file_folder, \"Minneapolis.net.xml\")\n",
    "sumo_net = sumolib.net.readNet(net_file)"
   ]
  },
  {
   "cell_type": "code",
   "execution_count": 6,
   "id": "negative-great",
   "metadata": {},
   "outputs": [],
   "source": [
    "# generate k trip files\n",
    "node_ids = node_gdf.index.tolist()  # List of node IDs\n",
    "\n",
    "origins = []\n",
    "destinations = []\n",
    "\n",
    "for _ in range(number_of_trips):\n",
    "    origin, destination = random.sample(node_ids, 2)  # Sample two unique nodes\n",
    "    origins.append(origin)\n",
    "    destinations.append(destination)\n",
    "\n",
    "# random node paths\n",
    "random_paths = ox.routing.shortest_path(osmnx_net, origins, destinations, weight='length', cpus=1)"
   ]
  },
  {
   "cell_type": "code",
   "execution_count": 7,
   "id": "guided-coordination",
   "metadata": {},
   "outputs": [],
   "source": [
    "# Convert osmnx paths to sumo paths\n",
    "all_routes_info, vehicle_ids = sim.osmnx_paths_to_sumo_routes(random_paths, sumo_net)   "
   ]
  },
  {
   "cell_type": "code",
   "execution_count": 8,
   "id": "hairy-compilation",
   "metadata": {},
   "outputs": [
    {
     "name": "stdout",
     "output_type": "stream",
     "text": [
      " Retrying in 1 seconds\n",
      "Step #5302.00 (0ms ?*RT. ?UPS, TraCI: 0ms, vehicles TOT 5 ACT 0 BUF 0)                    tep #4500.00 (3ms ~= 333.33*RT, ~333.33UPS, TraCI: 1ms, vehicles TOT 5 ACT 1 BUF 0)      \n"
     ]
    }
   ],
   "source": [
    "# SUMO simulation configuration\n",
    "\n",
    "# After collecting routes_info from all files and trips\n",
    "route_file = os.path.join(data_file_folder, \"incompelete_routes.xml\")\n",
    "sim.save_incomplete_routes_to_xml(all_routes_info, route_file)\n",
    "\n",
    "complete_route_file = os.path.join(data_file_folder, \"complete_routes.rou.xml\")\n",
    "sim.complete_routes(route_file, net_file, complete_route_file)\n",
    "\n",
    "begin = 0\n",
    "end = 14400 # maximum simulated travel time \n",
    "step_length = 1\n",
    "file_name_config = \"sumo.sumocfg\"\n",
    "sim.save_sumo_config_to_file(net_file, complete_route_file, begin, end, step_length, file_name_config)\n",
    "\n",
    "# sumo simulation\n",
    "velocity_data, edgeSeq_data = sim.sumo_simulation(file_name_config, vehicle_ids)"
   ]
  },
  {
   "cell_type": "code",
   "execution_count": 9,
   "id": "radical-pottery",
   "metadata": {},
   "outputs": [],
   "source": [
    "# Generate synthetic vehicle type\n",
    "# 62 predefined vehicle types in FASTSim: https://github.com/NREL/fastsim/blob/fastsim-2/python/fastsim/resources/FASTSim_py_veh_db.csv\n",
    "vehicle_type = np.random.randint(1, 27, number_of_trips)\n",
    "# vehicle_type = 0 -> the predefined Murphy Heavey Duty Truck. Refer to cumstomize_veh() in simultation.py\n",
    "# vehicle_type = [0 for _ in range(number_of_trips)]\n",
    "\n",
    "# generte a dataframe of the synthetic data based on SUMO results\n",
    "csv_file = sim.generate_synthetic_csv(random_paths, velocity_data, edgeSeq_data, vehicle_type, edge_gdf, sumo_net)"
   ]
  },
  {
   "cell_type": "code",
   "execution_count": 10,
   "id": "continent-houston",
   "metadata": {},
   "outputs": [
    {
     "data": {
      "text/html": [
       "<div>\n",
       "<style scoped>\n",
       "    .dataframe tbody tr th:only-of-type {\n",
       "        vertical-align: middle;\n",
       "    }\n",
       "\n",
       "    .dataframe tbody tr th {\n",
       "        vertical-align: top;\n",
       "    }\n",
       "\n",
       "    .dataframe thead th {\n",
       "        text-align: right;\n",
       "    }\n",
       "</style>\n",
       "<table border=\"1\" class=\"dataframe\">\n",
       "  <thead>\n",
       "    <tr style=\"text-align: right;\">\n",
       "      <th></th>\n",
       "      <th>trip_start_time</th>\n",
       "      <th>trip_end_time</th>\n",
       "      <th>travel_time</th>\n",
       "      <th>velocity_profile</th>\n",
       "      <th>weight</th>\n",
       "      <th>total_fuel</th>\n",
       "      <th>ambTemperature</th>\n",
       "      <th>trajectory</th>\n",
       "      <th>matched_path</th>\n",
       "      <th>coordinate_id</th>\n",
       "      <th>road_id</th>\n",
       "      <th>vehicle_type</th>\n",
       "    </tr>\n",
       "  </thead>\n",
       "  <tbody>\n",
       "    <tr>\n",
       "      <th>0</th>\n",
       "      <td>2023-10-30 16:51:58.547468</td>\n",
       "      <td>2023-10-30 17:00:46.547468</td>\n",
       "      <td>528</td>\n",
       "      <td>[0.0, 1.9189507206669076, 3.641124780732207, 5...</td>\n",
       "      <td>[1959.8983587886976]</td>\n",
       "      <td>[93.60458479816482]</td>\n",
       "      <td>4</td>\n",
       "      <td>[(44.78809, -93.462495)]</td>\n",
       "      <td>[(188494206, 188494205, 0), (188494205, 188501...</td>\n",
       "      <td>[0]</td>\n",
       "      <td>[(188494206, 188494205, 0), (188494206, 188494...</td>\n",
       "      <td>16</td>\n",
       "    </tr>\n",
       "    <tr>\n",
       "      <th>1</th>\n",
       "      <td>2024-02-13 09:29:24.547482</td>\n",
       "      <td>2024-02-13 09:45:37.547482</td>\n",
       "      <td>973</td>\n",
       "      <td>[0.0, 1.6141484214691446, 3.9632478857645768, ...</td>\n",
       "      <td>[1882.8506869071566]</td>\n",
       "      <td>[82.18218246177022]</td>\n",
       "      <td>-8</td>\n",
       "      <td>[(44.78809, -93.462495)]</td>\n",
       "      <td>[(186823394, 186797287, 0), (186797287, 186797...</td>\n",
       "      <td>[0]</td>\n",
       "      <td>[(186823394, 186797287, 0), (186823394, 186797...</td>\n",
       "      <td>14</td>\n",
       "    </tr>\n",
       "    <tr>\n",
       "      <th>2</th>\n",
       "      <td>2023-10-06 12:52:09.547485</td>\n",
       "      <td>2023-10-06 13:31:36.547485</td>\n",
       "      <td>2367</td>\n",
       "      <td>[0.0, 2.215580755379051, 4.730005498952232, 7....</td>\n",
       "      <td>[1317.5469983063322]</td>\n",
       "      <td>[77.08542457615346]</td>\n",
       "      <td>11</td>\n",
       "      <td>[(44.78809, -93.462495)]</td>\n",
       "      <td>[(188577573, 188577576, 0), (188577576, 188564...</td>\n",
       "      <td>[0]</td>\n",
       "      <td>[(188577573, 188577576, 0), (188577573, 188577...</td>\n",
       "      <td>24</td>\n",
       "    </tr>\n",
       "    <tr>\n",
       "      <th>3</th>\n",
       "      <td>2023-06-02 01:22:29.547488</td>\n",
       "      <td>2023-06-02 02:16:45.547488</td>\n",
       "      <td>3256</td>\n",
       "      <td>[0.0, 2.0975293326890094, 4.486730313114823, 5...</td>\n",
       "      <td>[1840.913513682106]</td>\n",
       "      <td>[93.29763058958196]</td>\n",
       "      <td>9</td>\n",
       "      <td>[(44.78809, -93.462495)]</td>\n",
       "      <td>[(186515281, 186481805, 0), (186481805, 186496...</td>\n",
       "      <td>[0]</td>\n",
       "      <td>[(186515281, 186481805, 0), (186515281, 186481...</td>\n",
       "      <td>1</td>\n",
       "    </tr>\n",
       "    <tr>\n",
       "      <th>4</th>\n",
       "      <td>2023-09-11 03:17:45.547491</td>\n",
       "      <td>2023-09-11 04:46:06.547491</td>\n",
       "      <td>5301</td>\n",
       "      <td>[0.0, 2.522357051051222, 4.150746611505747, 5....</td>\n",
       "      <td>[1848.282544802568]</td>\n",
       "      <td>[84.1938416081558]</td>\n",
       "      <td>-8</td>\n",
       "      <td>[(44.78809, -93.462495)]</td>\n",
       "      <td>[(186798717, 186798709, 0), (186798709, 186798...</td>\n",
       "      <td>[0]</td>\n",
       "      <td>[(186798717, 186798709, 0), (186798717, 186798...</td>\n",
       "      <td>2</td>\n",
       "    </tr>\n",
       "  </tbody>\n",
       "</table>\n",
       "</div>"
      ],
      "text/plain": [
       "             trip_start_time              trip_end_time  travel_time  \\\n",
       "0 2023-10-30 16:51:58.547468 2023-10-30 17:00:46.547468          528   \n",
       "1 2024-02-13 09:29:24.547482 2024-02-13 09:45:37.547482          973   \n",
       "2 2023-10-06 12:52:09.547485 2023-10-06 13:31:36.547485         2367   \n",
       "3 2023-06-02 01:22:29.547488 2023-06-02 02:16:45.547488         3256   \n",
       "4 2023-09-11 03:17:45.547491 2023-09-11 04:46:06.547491         5301   \n",
       "\n",
       "                                    velocity_profile                weight  \\\n",
       "0  [0.0, 1.9189507206669076, 3.641124780732207, 5...  [1959.8983587886976]   \n",
       "1  [0.0, 1.6141484214691446, 3.9632478857645768, ...  [1882.8506869071566]   \n",
       "2  [0.0, 2.215580755379051, 4.730005498952232, 7....  [1317.5469983063322]   \n",
       "3  [0.0, 2.0975293326890094, 4.486730313114823, 5...   [1840.913513682106]   \n",
       "4  [0.0, 2.522357051051222, 4.150746611505747, 5....   [1848.282544802568]   \n",
       "\n",
       "            total_fuel  ambTemperature                trajectory  \\\n",
       "0  [93.60458479816482]               4  [(44.78809, -93.462495)]   \n",
       "1  [82.18218246177022]              -8  [(44.78809, -93.462495)]   \n",
       "2  [77.08542457615346]              11  [(44.78809, -93.462495)]   \n",
       "3  [93.29763058958196]               9  [(44.78809, -93.462495)]   \n",
       "4   [84.1938416081558]              -8  [(44.78809, -93.462495)]   \n",
       "\n",
       "                                        matched_path coordinate_id  \\\n",
       "0  [(188494206, 188494205, 0), (188494205, 188501...           [0]   \n",
       "1  [(186823394, 186797287, 0), (186797287, 186797...           [0]   \n",
       "2  [(188577573, 188577576, 0), (188577576, 188564...           [0]   \n",
       "3  [(186515281, 186481805, 0), (186481805, 186496...           [0]   \n",
       "4  [(186798717, 186798709, 0), (186798709, 186798...           [0]   \n",
       "\n",
       "                                             road_id  vehicle_type  \n",
       "0  [(188494206, 188494205, 0), (188494206, 188494...            16  \n",
       "1  [(186823394, 186797287, 0), (186823394, 186797...            14  \n",
       "2  [(188577573, 188577576, 0), (188577573, 188577...            24  \n",
       "3  [(186515281, 186481805, 0), (186515281, 186481...             1  \n",
       "4  [(186798717, 186798709, 0), (186798717, 186798...             2  "
      ]
     },
     "execution_count": 10,
     "metadata": {},
     "output_type": "execute_result"
    }
   ],
   "source": [
    "csv_file.head()"
   ]
  },
  {
   "cell_type": "code",
   "execution_count": 11,
   "id": "individual-lexington",
   "metadata": {},
   "outputs": [
    {
     "name": "stderr",
     "output_type": "stream",
     "text": [
      "2024-03-06 20:51:18.769 | simdrive.py:2262 | WARNING: problem detected with conservation of energy; energy audit error: 0.00739\n",
      "2024-03-06 20:51:18.771 | simdrive.py:2298 | WARNING: trace miss speed 1.03733 m/s exceeds tolerance of 1.0 m/s\n",
      "2024-03-06 20:51:19.261 | simdrive.py:2262 | WARNING: problem detected with conservation of energy; energy audit error: 0.00919\n",
      "2024-03-06 20:51:19.263 | simdrive.py:2298 | WARNING: trace miss speed 1.03733 m/s exceeds tolerance of 1.0 m/s\n",
      "2024-03-06 20:51:19.776 | simdrive.py:2262 | WARNING: problem detected with conservation of energy; energy audit error: 0.00919\n",
      "2024-03-06 20:51:19.778 | simdrive.py:2298 | WARNING: trace miss speed 1.03733 m/s exceeds tolerance of 1.0 m/s\n",
      "2024-03-06 20:51:20.158 | simdrive.py:2280 | WARNING: trace miss distance fraction 0.00682 exceeds tolerance of 0.001\n",
      "2024-03-06 20:51:20.160 | simdrive.py:2298 | WARNING: trace miss speed 4.92621 m/s exceeds tolerance of 1.0 m/s\n",
      "2024-03-06 20:51:20.725 | simdrive.py:2280 | WARNING: trace miss distance fraction 0.00589 exceeds tolerance of 0.001\n",
      "2024-03-06 20:51:20.728 | simdrive.py:2298 | WARNING: trace miss speed 7.27674 m/s exceeds tolerance of 1.0 m/s\n"
     ]
    }
   ],
   "source": [
    "# Process the data (trip level) and save to the destination folder\n",
    "simulated_data = sim.fastsim(csv_file, velocity_data, edgeSeq_data, data_file_folder)"
   ]
  },
  {
   "cell_type": "code",
   "execution_count": 12,
   "id": "acoustic-egypt",
   "metadata": {},
   "outputs": [],
   "source": [
    "# Convert space-separated strings to lists of floats\n",
    "float_list_columns = ['fastsim_velocity', 'fastsim_power', 'sumo_velocity']\n",
    "for column in float_list_columns:\n",
    "    simulated_data[column] = simulated_data[column].apply(lambda x: [float(i) for i in x.split()])\n",
    "\n",
    "# Convert space-separated strings to lists\n",
    "simulated_data['sumo_path'] = simulated_data['sumo_path'].str.split()"
   ]
  },
  {
   "cell_type": "code",
   "execution_count": 13,
   "id": "adapted-paris",
   "metadata": {},
   "outputs": [
    {
     "name": "stdout",
     "output_type": "stream",
     "text": [
      "Elevation total batches to fetch : 14\n",
      "Elevation processing batch 1 of 14\n",
      "Elevation processing batch 2 of 14\n",
      "Elevation processing batch 3 of 14\n",
      "Elevation processing batch 4 of 14\n",
      "Elevation processing batch 5 of 14\n",
      "Elevation processing batch 6 of 14\n",
      "Elevation processing batch 7 of 14\n",
      "Elevation processing batch 8 of 14\n",
      "Elevation processing batch 9 of 14\n",
      "Elevation processing batch 10 of 14\n",
      "Elevation processing batch 11 of 14\n",
      "Elevation processing batch 12 of 14\n",
      "Elevation processing batch 13 of 14\n",
      "Elevation processing batch 14 of 14\n",
      "700\n",
      "Saved processed data to data/processed/synthetic/synthetic.csv\n"
     ]
    }
   ],
   "source": [
    "# conver the processed data to edge level\n",
    "edge_gdf = process_edge_gdf(edge_gdf, node_gdf, results_file_folder)\n",
    "df_edge = process_one_file(simulated_data, edge_gdf, sumo_net)\n",
    "# Save the processed DataFrame to a new CSV in the output folder\n",
    "edge_level_output_file_name = os.path.join(edge_level_data_folder, \"synthetic.csv\")\n",
    "df_edge.to_csv(edge_level_output_file_name, index=False)\n",
    "print(f\"Saved processed data to {edge_level_output_file_name}\")"
   ]
  },
  {
   "cell_type": "code",
   "execution_count": 14,
   "id": "uniform-mechanics",
   "metadata": {},
   "outputs": [],
   "source": [
    "edge_level_file_pattern = os.path.join(edge_level_data_folder, \"*.csv\")\n",
    "synthetic_data_flg = True\n",
    "feature_extraction(data_file_folder, results_file_folder, edge_level_file_pattern, results_data_file_folder, synthetic_data_flg)\n",
    "print(f\"Saved extracted feature data to {results_data_file_folder}\")"
   ]
  },
  {
   "cell_type": "code",
   "execution_count": null,
   "id": "organic-status",
   "metadata": {},
   "outputs": [],
   "source": []
  },
  {
   "cell_type": "code",
   "execution_count": null,
   "id": "dried-representation",
   "metadata": {},
   "outputs": [],
   "source": []
  }
 ],
 "metadata": {
  "kernelspec": {
   "display_name": "syntheticDataGen",
   "language": "python",
   "name": "syntheticdata"
  },
  "language_info": {
   "codemirror_mode": {
    "name": "ipython",
    "version": 3
   },
   "file_extension": ".py",
   "mimetype": "text/x-python",
   "name": "python",
   "nbconvert_exporter": "python",
   "pygments_lexer": "ipython3",
   "version": "3.8.17"
  }
 },
 "nbformat": 4,
 "nbformat_minor": 5
}
