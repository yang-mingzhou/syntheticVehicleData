{
 "cells": [
  {
   "cell_type": "code",
   "execution_count": 19,
   "id": "running-implement",
   "metadata": {},
   "outputs": [],
   "source": [
    "import ast\n",
    "import pandas as pd\n",
    "import os\n",
    "import json\n",
    "\n",
    "from mappymatch import package_root\n",
    "from mappymatch.constructs.trace import Trace\n",
    "from mappymatch.utils.plot import plot_trace\n",
    "from mappymatch.constructs.geofence import Geofence\n",
    "from mappymatch.utils.plot import plot_geofence"
   ]
  },
  {
   "cell_type": "code",
   "execution_count": 2,
   "id": "front-wayne",
   "metadata": {},
   "outputs": [],
   "source": [
    "def read_trip_data(csv_file):\n",
    "    # Read the CSV file\n",
    "    df = pd.read_csv(csv_file)\n",
    "\n",
    "    # Convert string representations of lists back to lists\n",
    "    df['trajectory'] = df['trajectory'].apply(ast.literal_eval)\n",
    "    df['velocity_profile'] = df['velocity_profile'].apply(ast.literal_eval)\n",
    "    df['altitude_profile'] = df['altitude_profile'].apply(ast.literal_eval)\n",
    "\n",
    "    return df"
   ]
  },
  {
   "cell_type": "code",
   "execution_count": 3,
   "id": "committed-bundle",
   "metadata": {},
   "outputs": [
    {
     "name": "stdout",
     "output_type": "stream",
     "text": [
      "           trip_start_time            trip_end_time  travel_time  \\\n",
      "0  2020-08-10 05:59:15.000  2020-08-10 06:01:59.000        164.0   \n",
      "1  2020-08-10 06:02:00.000  2020-08-10 06:02:14.000         14.0   \n",
      "2  2020-08-10 06:28:47.100  2020-08-10 08:01:20.100       5553.0   \n",
      "3  2020-08-10 08:11:58.900  2020-08-10 08:44:03.900       1925.0   \n",
      "4  2020-08-10 09:42:13.400  2020-08-10 10:32:56.400       3043.0   \n",
      "\n",
      "                                    altitude_profile  \\\n",
      "0  [531.9, 531.9, 531.9, 531.9, 531.9, 531.9, 531...   \n",
      "1  [276.0, 276.0, 276.0, 275.8, 275.7, 275.6, 275...   \n",
      "2  [294.5, 293.7, 292.7, 291.9, 291.3, 290.6, 290...   \n",
      "3  [275.5, 274.2, 273.3, 272.8, 272.4, 272.1, 271...   \n",
      "4  [323.9, 323.5, 323.1, 322.7, 322.2, 321.7, 321...   \n",
      "\n",
      "                                    velocity_profile   weight  total_fuel  \\\n",
      "0  [0.0, 0.0, 0.0, 0.0, 0.0, 0.0, 0.0, 0.0, 0.0, ...   8000.0    0.203792   \n",
      "1  [3.4102, 3.4648, 3.4258, 3.4805, 3.4922, 3.507...   8000.0    0.016903   \n",
      "2  [3.8867, 5.1758, 6.2422, 6.832, 6.8672, 7.0195...   8000.0   37.229431   \n",
      "3  [0.0, 0.0, 0.0, 0.0, 0.0, 0.0, 0.0, 0.0, 0.0, ...   8000.0   11.103208   \n",
      "4  [0.0, 0.0, 0.0, 0.0, 0.0, 0.0, 0.0, 0.0, 0.0, ...  30000.0   22.526931   \n",
      "\n",
      "   ambTemperature                                         trajectory  \n",
      "0          11.281  [(44.980863, -93.219328), (44.980865, -93.2193...  \n",
      "1          11.500  [(44.982194, -93.219045), (44.982191, -93.2190...  \n",
      "2          12.188  [(44.9823, -93.219083), (44.982295, -93.21907)...  \n",
      "3          14.188  [(44.894679, -91.873756), (44.89468, -91.87376...  \n",
      "4          14.594  [(44.849559, -91.544665), (44.849561, -91.5446...  \n"
     ]
    }
   ],
   "source": [
    "trip_data_read = read_trip_data('data/trips/Murphy/TL5-218_2020W33_trip_data.csv')\n",
    "print(trip_data_read.head())"
   ]
  },
  {
   "cell_type": "code",
   "execution_count": 4,
   "id": "reflected-mississippi",
   "metadata": {},
   "outputs": [
    {
     "name": "stdout",
     "output_type": "stream",
     "text": [
      "    latitude  longitude\n",
      "0  44.894679 -91.873756\n",
      "1  44.894680 -91.873760\n",
      "2  44.894682 -91.873763\n",
      "3  44.894684 -91.873766\n",
      "4  44.894685 -91.873768\n"
     ]
    }
   ],
   "source": [
    "first_trip_trajectory = trip_data_read['trajectory'].iloc[3]\n",
    "\n",
    "# Convert the list of tuples (latitude, longitude) into a DataFrame\n",
    "trajectory_df = pd.DataFrame(first_trip_trajectory, columns=['latitude', 'longitude'])\n",
    "\n",
    "print(trajectory_df.head())"
   ]
  },
  {
   "cell_type": "code",
   "execution_count": 5,
   "id": "mediterranean-completion",
   "metadata": {},
   "outputs": [],
   "source": [
    "trace = Trace.from_dataframe(trajectory_df, lat_column=\"latitude\", lon_column=\"longitude\")"
   ]
  },
  {
   "cell_type": "code",
   "execution_count": 9,
   "id": "favorite-watch",
   "metadata": {},
   "outputs": [],
   "source": [
    "def find_bounding_box_for_all_trips(directory_path):\n",
    "    # Initialize min and max values for latitude and longitude\n",
    "    min_lat, max_lat = float('inf'), float('-inf')\n",
    "    min_lon, max_lon = float('inf'), float('-inf')\n",
    "\n",
    "    # Iterate through each CSV file in the directory\n",
    "    for file_name in os.listdir(directory_path):\n",
    "        if file_name.endswith('_trip_data.csv'):  # Check if the file is a trip data CSV\n",
    "            file_path = os.path.join(directory_path, file_name)\n",
    "            trip_data = read_trip_data(file_path)\n",
    "            \n",
    "            # Iterate through each trip's trajectory\n",
    "            for trajectory in trip_data['trajectory']:\n",
    "                # Extract latitudes and longitudes from the trajectory\n",
    "                latitudes, longitudes = zip(*trajectory)\n",
    "                \n",
    "                # Update min and max values\n",
    "                min_lat, max_lat = min(min_lat, min(latitudes)), max(max_lat, max(latitudes))\n",
    "                min_lon, max_lon = min(min_lon, min(longitudes)), max(max_lon, max(longitudes))\n",
    "\n",
    "    # The bounding box is defined by the minimum and maximum latitude and longitude\n",
    "    bounding_box = {\n",
    "        'min_latitude': min_lat,\n",
    "        'max_latitude': max_lat,\n",
    "        'min_longitude': min_lon,\n",
    "        'max_longitude': max_lon\n",
    "    }\n",
    "\n",
    "    return bounding_box"
   ]
  },
  {
   "cell_type": "code",
   "execution_count": 12,
   "id": "incredible-texture",
   "metadata": {},
   "outputs": [],
   "source": [
    "def bounding_box_to_geojson(bounding_box, output_file):\n",
    "    # Define the coordinates of the bounding box (Polygon)\n",
    "    # The coordinates list must start and end at the same point, forming a closed loop\n",
    "    coordinates = [\n",
    "        [\n",
    "            [bounding_box['min_longitude'], bounding_box['min_latitude']],  # Lower-left corner\n",
    "            [bounding_box['min_longitude'], bounding_box['max_latitude']],  # Upper-left corner\n",
    "            [bounding_box['max_longitude'], bounding_box['max_latitude']],  # Upper-right corner\n",
    "            [bounding_box['max_longitude'], bounding_box['min_latitude']],  # Lower-right corner\n",
    "            [bounding_box['min_longitude'], bounding_box['min_latitude']]   # Closing the loop at lower-left corner\n",
    "        ]\n",
    "    ]\n",
    "    \n",
    "    # Define the GeoJSON structure\n",
    "    geojson_object = {\n",
    "        \"type\": \"Feature\",\n",
    "        \"properties\": {},  # Properties can be added if needed\n",
    "        \"geometry\": {\n",
    "            \"type\": \"Polygon\",\n",
    "            \"coordinates\": coordinates\n",
    "        }\n",
    "    }\n",
    "    \n",
    "    # Write the GeoJSON object to a file\n",
    "    with open(output_file, 'w') as f:\n",
    "        json.dump(geojson_object, f, indent=4)\n",
    "    \n",
    "    print(f\"GeoJSON file saved to {output_file}\")"
   ]
  },
  {
   "cell_type": "code",
   "execution_count": null,
   "id": "interesting-columbia",
   "metadata": {},
   "outputs": [],
   "source": [
    "murphy_folder = 'data/trips/Murphy'\n",
    "bounding_box = find_bounding_box_for_all_trips(murphy_folder)\n",
    "print(bounding_box)"
   ]
  },
  {
   "cell_type": "code",
   "execution_count": 13,
   "id": "laden-sharing",
   "metadata": {},
   "outputs": [
    {
     "name": "stdout",
     "output_type": "stream",
     "text": [
      "GeoJSON file saved to results/bounding_box.geojson\n"
     ]
    }
   ],
   "source": [
    "output_geojson_file = 'results/bounding_box.geojson'\n",
    "bounding_box_to_geojson(bounding_box, output_geojson_file)"
   ]
  },
  {
   "cell_type": "code",
   "execution_count": 16,
   "id": "finished-artwork",
   "metadata": {},
   "outputs": [],
   "source": [
    "geofence = Geofence.from_geojson(output_geojson_file)"
   ]
  },
  {
   "cell_type": "code",
   "execution_count": 17,
   "id": "imported-dublin",
   "metadata": {},
   "outputs": [
    {
     "data": {
      "text/plain": [
       "<mappymatch.constructs.geofence.Geofence at 0x2b5cc3d2fd30>"
      ]
     },
     "execution_count": 17,
     "metadata": {},
     "output_type": "execute_result"
    }
   ],
   "source": [
    "geofence"
   ]
  },
  {
   "cell_type": "code",
   "execution_count": null,
   "id": "shared-bearing",
   "metadata": {},
   "outputs": [],
   "source": [
    "plot_trace(trace, point_color=\"black\", m=plot_geofence(geofence))"
   ]
  },
  {
   "cell_type": "code",
   "execution_count": null,
   "id": "terminal-scope",
   "metadata": {},
   "outputs": [],
   "source": []
  }
 ],
 "metadata": {
  "kernelspec": {
   "display_name": "syntheticDataGen",
   "language": "python",
   "name": "syntheticdata"
  },
  "language_info": {
   "codemirror_mode": {
    "name": "ipython",
    "version": 3
   },
   "file_extension": ".py",
   "mimetype": "text/x-python",
   "name": "python",
   "nbconvert_exporter": "python",
   "pygments_lexer": "ipython3",
   "version": "3.8.17"
  }
 },
 "nbformat": 4,
 "nbformat_minor": 5
}
