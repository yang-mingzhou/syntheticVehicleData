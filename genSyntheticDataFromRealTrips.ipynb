{
 "cells": [
  {
   "cell_type": "code",
   "execution_count": 7,
   "id": "animal-wesley",
   "metadata": {},
   "outputs": [],
   "source": [
    "import pandas as pd\n",
    "import matplotlib.pyplot as plt\n",
    "import ast\n",
    "import matplotlib.dates as mdates\n",
    "import sumolib\n",
    "import osmnx as ox\n",
    "\n",
    "import sys\n",
    "import os\n",
    "import glob\n",
    "import random\n",
    "import logging\n",
    "import subprocess\n",
    "import numpy as np\n",
    "\n",
    "from fastsim import simdrive, vehicle, cycle\n",
    "from fastsim import parameters as params\n",
    "\n",
    "import traci\n",
    "import time\n",
    "import csv\n",
    "\n",
    "import xml.etree.ElementTree as ET\n",
    "import xml.dom.minidom\n",
    "\n",
    "from datetime import datetime, timedelta\n",
    "\n",
    "from utils.simulation import simulation \n",
    "from utils.featureExtraction import feature_extraction\n",
    "# postprocessing to edge level\n",
    "from utils.postprocessing import postprocessing"
   ]
  },
  {
   "cell_type": "code",
   "execution_count": 8,
   "id": "absent-mirror",
   "metadata": {},
   "outputs": [],
   "source": [
    "data_file_folder = \"data\"\n",
    "results_file_folder = \"results\""
   ]
  },
  {
   "cell_type": "code",
   "execution_count": 9,
   "id": "brown-termination",
   "metadata": {},
   "outputs": [],
   "source": [
    "# Set SUMO_HOME; revise it according to the path to the site-packages folder of SUMO  \n",
    "os.environ['PATH'] += \":/home/shekhars/yang7492/.conda/envs/syntheticData/lib/python3.8/site-packages/sumo/bin\"\n",
    "os.environ['SUMO_HOME'] = '/home/shekhars/yang7492/.conda/envs/syntheticData/lib/python3.8/site-packages/sumo'"
   ]
  },
  {
   "cell_type": "code",
   "execution_count": 10,
   "id": "knowing-banking",
   "metadata": {},
   "outputs": [],
   "source": [
    "# simulataion and save\n",
    "input_file_pattern = os.path.join(data_file_folder, \"matchedTrips/Murphy/*_matched.csv\")\n",
    "simulation_output_folder = os.path.join(data_file_folder, \"simulated/Murphy\") "
   ]
  },
  {
   "cell_type": "code",
   "execution_count": null,
   "id": "opposed-victor",
   "metadata": {},
   "outputs": [],
   "source": [
    "simulation(data_file_folder, results_file_folder, input_file_pattern, simulation_output_folder)"
   ]
  },
  {
   "cell_type": "code",
   "execution_count": null,
   "id": "interior-hybrid",
   "metadata": {},
   "outputs": [],
   "source": [
    "# conver the trip level data to edge level and save\n",
    "edge_level_output_folder = os.path.join(data_file_folder, \"processed/Murphy\") \n",
    "postprocessing(data_file_folder, results_file_folder, simulation_output_folder, edge_level_output_folder)"
   ]
  },
  {
   "cell_type": "code",
   "execution_count": 13,
   "id": "attractive-bradford",
   "metadata": {},
   "outputs": [],
   "source": [
    "# extract features for neural network training\n",
    "edge_level_file_pattern = os.path.join(edge_level_output_folder, \"*_processed.csv\")\n",
    "output_file_folder =  os.path.join(data_file_folder, \"features/Murphy\")\n",
    "# process synthetic data or real-world data \n",
    "synthetic_data_flg = True # or False for processing real-world data\n",
    "feature_extraction(data_file_folder, results_file_folder, edge_level_file_pattern, output_file_folder, synthetic_data_flg)"
   ]
  },
  {
   "cell_type": "code",
   "execution_count": null,
   "id": "broadband-membrane",
   "metadata": {},
   "outputs": [],
   "source": []
  }
 ],
 "metadata": {
  "kernelspec": {
   "display_name": "syntheticDataGen",
   "language": "python",
   "name": "syntheticdata"
  },
  "language_info": {
   "codemirror_mode": {
    "name": "ipython",
    "version": 3
   },
   "file_extension": ".py",
   "mimetype": "text/x-python",
   "name": "python",
   "nbconvert_exporter": "python",
   "pygments_lexer": "ipython3",
   "version": "3.8.17"
  }
 },
 "nbformat": 4,
 "nbformat_minor": 5
}
