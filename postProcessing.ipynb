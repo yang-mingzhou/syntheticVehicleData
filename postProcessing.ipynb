{
 "cells": [
  {
   "cell_type": "code",
   "execution_count": 2,
   "id": "english-chair",
   "metadata": {},
   "outputs": [
    {
     "name": "stderr",
     "output_type": "stream",
     "text": [
      "2024-01-23 13:44:04.741 | calibration.py:38 | WARNING: No module named 'pymoo'\n",
      "Try running `pip install pymoo==0.6.0.1` to use all features in `fastsim.calibration`\n"
     ]
    }
   ],
   "source": [
    "import pandas as pd\n",
    "import matplotlib.pyplot as plt\n",
    "import ast\n",
    "from datetime import timedelta\n",
    "import matplotlib.dates as mdates\n",
    "import sumolib\n",
    "import osmnx as ox\n",
    "\n",
    "import sys\n",
    "import os\n",
    "import numpy as np\n",
    "\n",
    "from fastsim import simdrive, vehicle, cycle\n",
    "from fastsim import parameters as params\n",
    "\n",
    "import traci\n",
    "import time\n",
    "import csv\n",
    "\n",
    "import xml.etree.ElementTree as ET\n",
    "import xml.dom.minidom"
   ]
  },
  {
   "cell_type": "code",
   "execution_count": 3,
   "id": "smoking-forge",
   "metadata": {},
   "outputs": [
    {
     "name": "stdout",
     "output_type": "stream",
     "text": [
      "/common/software/install/migrated/anaconda/miniconda3_4.8.3-jupyter/bin:/sbin:/bin:/usr/sbin:/usr/bin:/opt/puppetlabs/bin:/opt/msi/sbin:/opt/msi/bin:/usr/local/bin:/usr/local/sbin\n"
     ]
    }
   ],
   "source": [
    "print(os.environ['PATH'])"
   ]
  },
  {
   "cell_type": "code",
   "execution_count": 4,
   "id": "acoustic-result",
   "metadata": {},
   "outputs": [],
   "source": [
    "os.environ['PATH'] += \":/home/shekhars/yang7492/.conda/envs/syntheticData/lib/python3.8/site-packages/sumo/bin\""
   ]
  },
  {
   "cell_type": "code",
   "execution_count": 5,
   "id": "equal-problem",
   "metadata": {},
   "outputs": [],
   "source": [
    "# Set SUMO_HOME\n",
    "os.environ['SUMO_HOME'] = '/home/shekhars/yang7492/.conda/envs/syntheticData/lib/python3.8/site-packages/sumo'"
   ]
  },
  {
   "cell_type": "code",
   "execution_count": null,
   "id": "given-architecture",
   "metadata": {},
   "outputs": [],
   "source": [
    "def read_matched_trip_data(csv_file):\n",
    "    # Read the CSV file\n",
    "    df = pd.read_csv(csv_file)\n",
    "\n",
    "    # Convert string representations of lists back to lists\n",
    "    df['trajectory'] = df['trajectory'].apply(ast.literal_eval)\n",
    "    df['velocity_profile'] = df['velocity_profile'].apply(ast.literal_eval)\n",
    "    df['altitude_profile'] = df['altitude_profile'].apply(ast.literal_eval)\n",
    "\n",
    "    return df"
   ]
  }
 ],
 "metadata": {
  "kernelspec": {
   "display_name": "syntheticDataGen",
   "language": "python",
   "name": "syntheticdata"
  },
  "language_info": {
   "codemirror_mode": {
    "name": "ipython",
    "version": 3
   },
   "file_extension": ".py",
   "mimetype": "text/x-python",
   "name": "python",
   "nbconvert_exporter": "python",
   "pygments_lexer": "ipython3",
   "version": "3.8.17"
  }
 },
 "nbformat": 4,
 "nbformat_minor": 5
}
