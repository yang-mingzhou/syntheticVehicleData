{
 "cells": [
  {
   "cell_type": "code",
   "execution_count": 65,
   "id": "bored-classic",
   "metadata": {},
   "outputs": [],
   "source": [
    "import pandas as pd\n",
    "import matplotlib.pyplot as plt\n",
    "import ast\n",
    "from datetime import timedelta\n",
    "import matplotlib.dates as mdates\n",
    "import sumolib\n",
    "import osmnx as ox\n",
    "\n",
    "import sys\n",
    "import os\n",
    "import numpy as np\n",
    "\n",
    "from fastsim import simdrive, vehicle, cycle\n",
    "from fastsim import parameters as params\n",
    "\n",
    "from mappymatch.constructs.geofence import Geofence\n",
    "from mappymatch.utils.plot import plot_geofence\n",
    "from mappymatch.maps.nx.nx_map import NxMap, NetworkType\n",
    "\n",
    "import traci\n",
    "import time\n",
    "import csv\n",
    "\n",
    "import xml.etree.ElementTree as ET\n",
    "import xml.dom.minidom"
   ]
  },
  {
   "cell_type": "code",
   "execution_count": 24,
   "id": "moving-melissa",
   "metadata": {},
   "outputs": [
    {
     "name": "stdout",
     "output_type": "stream",
     "text": [
      "/common/software/install/migrated/anaconda/miniconda3_4.8.3-jupyter/bin:/sbin:/bin:/usr/sbin:/usr/bin:/opt/puppetlabs/bin:/opt/msi/sbin:/opt/msi/bin:/usr/local/bin:/usr/local/sbin\n"
     ]
    }
   ],
   "source": [
    "print(os.environ['PATH'])"
   ]
  },
  {
   "cell_type": "code",
   "execution_count": 25,
   "id": "tight-story",
   "metadata": {},
   "outputs": [],
   "source": [
    "os.environ['PATH'] += \":/home/shekhars/yang7492/.conda/envs/syntheticData/lib/python3.8/site-packages/sumo/bin\""
   ]
  },
  {
   "cell_type": "code",
   "execution_count": 26,
   "id": "radical-bradley",
   "metadata": {},
   "outputs": [],
   "source": [
    "# Set SUMO_HOME\n",
    "os.environ['SUMO_HOME'] = '/home/shekhars/yang7492/.conda/envs/syntheticData/lib/python3.8/site-packages/sumo'"
   ]
  },
  {
   "cell_type": "code",
   "execution_count": 3,
   "id": "lesser-ghost",
   "metadata": {},
   "outputs": [],
   "source": [
    "data_folder = \"data/synthetic/Murphy\""
   ]
  },
  {
   "cell_type": "code",
   "execution_count": 7,
   "id": "vocal-mauritius",
   "metadata": {},
   "outputs": [],
   "source": [
    "csv_name = \"TL5-218_2020W33_processed.csv\"\n",
    "file_name = os.path.join(data_folder, csv_name)"
   ]
  },
  {
   "cell_type": "code",
   "execution_count": 21,
   "id": "sound-library",
   "metadata": {},
   "outputs": [],
   "source": [
    "def read_data(csv_file):\n",
    "    # Read the CSV file into a DataFrame\n",
    "    df = pd.read_csv(csv_file)\n",
    "    \n",
    "    # Convert string representations of lists or tuples back to lists or tuples\n",
    "    # Use ast.literal_eval safely evaluate a string containing a Python literal or container display\n",
    "    df['altitude_profile'] = df['altitude_profile'].apply(ast.literal_eval)\n",
    "    df['velocity_profile'] = df['velocity_profile'].apply(ast.literal_eval)\n",
    "    df['weight'] = df['weight'].apply(ast.literal_eval)\n",
    "    df['total_fuel'] = df['total_fuel'].apply(ast.literal_eval)\n",
    "    df['trajectory'] = df['trajectory'].apply(ast.literal_eval)\n",
    "    df['matched_path'] = df['matched_path'].apply(ast.literal_eval)\n",
    "    df['coordinate_id'] = df['coordinate_id'].apply(ast.literal_eval)\n",
    "    df['road_id'] = df['road_id'].apply(ast.literal_eval)\n",
    "    \n",
    "    # Remove fractional seconds from 'time'\n",
    "    df['trip_start_time'] = df['trip_start_time'].str.split('.').str[0]\n",
    "    # Convert 'time' to datetime while ignoring fractional seconds\n",
    "    df['trip_start_time'] = pd.to_datetime(df['trip_start_time'], format='%Y-%m-%d %H:%M:%S')\n",
    "\n",
    "    df['trip_end_time'] = df['trip_end_time'].str.split('.').str[0]\n",
    "    df['trip_end_time'] = pd.to_datetime(df['trip_end_time'], format='%Y-%m-%d %H:%M:%S')\n",
    "    \n",
    "    df['fastsim_velocity'] = df['fastsim_velocity'].apply(lambda x: [float(i) for i in x.split()])\n",
    "    df['fastsim_power'] = df['fastsim_power'].apply(lambda x: [float(i) for i in x.split()])\n",
    "    df['sumo_velocity'] = df['sumo_velocity'].apply(lambda x: [float(i) for i in x.split()])\n",
    "    df['sumo_path'] = df['sumo_path'].str.split()\n",
    "    return df"
   ]
  },
  {
   "cell_type": "code",
   "execution_count": 22,
   "id": "explicit-board",
   "metadata": {},
   "outputs": [],
   "source": [
    "processed_df = read_data(file_name)"
   ]
  },
  {
   "cell_type": "code",
   "execution_count": 23,
   "id": "acknowledged-chamber",
   "metadata": {},
   "outputs": [
    {
     "data": {
      "text/html": [
       "<div>\n",
       "<style scoped>\n",
       "    .dataframe tbody tr th:only-of-type {\n",
       "        vertical-align: middle;\n",
       "    }\n",
       "\n",
       "    .dataframe tbody tr th {\n",
       "        vertical-align: top;\n",
       "    }\n",
       "\n",
       "    .dataframe thead th {\n",
       "        text-align: right;\n",
       "    }\n",
       "</style>\n",
       "<table border=\"1\" class=\"dataframe\">\n",
       "  <thead>\n",
       "    <tr style=\"text-align: right;\">\n",
       "      <th></th>\n",
       "      <th>trip_start_time</th>\n",
       "      <th>trip_end_time</th>\n",
       "      <th>travel_time</th>\n",
       "      <th>altitude_profile</th>\n",
       "      <th>velocity_profile</th>\n",
       "      <th>weight</th>\n",
       "      <th>total_fuel</th>\n",
       "      <th>ambTemperature</th>\n",
       "      <th>trajectory</th>\n",
       "      <th>matched_path</th>\n",
       "      <th>coordinate_id</th>\n",
       "      <th>road_id</th>\n",
       "      <th>fastsim_velocity</th>\n",
       "      <th>fastsim_power</th>\n",
       "      <th>sumo_path</th>\n",
       "      <th>sumo_velocity</th>\n",
       "    </tr>\n",
       "  </thead>\n",
       "  <tbody>\n",
       "    <tr>\n",
       "      <th>0</th>\n",
       "      <td>2020-08-10 12:28:47</td>\n",
       "      <td>2020-08-10 13:13:17</td>\n",
       "      <td>2670.0</td>\n",
       "      <td>[255.7, 255.2, 254.7, 254.2, 253.8, 252.9, 252...</td>\n",
       "      <td>[0.0, 0.0, 0.0, 0.0, 0.0, 0.0, 0.0, 0.0, 0.0, ...</td>\n",
       "      <td>[30000.0, 30000.0, 30000.0, 30000.0, 30000.0, ...</td>\n",
       "      <td>[4.15, 4.15, 4.05, 4.1, 3.75, 3.8, 5.3, 6.25, ...</td>\n",
       "      <td>15.188</td>\n",
       "      <td>[(44.788085, -93.462496), (44.78809, -93.46249...</td>\n",
       "      <td>[(8146751356, 188063558, 0), (188063558, 18805...</td>\n",
       "      <td>[202, 203, 204, 205, 206, 207, 208, 209, 210, ...</td>\n",
       "      <td>[(188055018, 9421214164, 0), (188055018, 94212...</td>\n",
       "      <td>[0.0, 5.686715111455639, 11.393352186998952, 1...</td>\n",
       "      <td>[0.0, 95.82343083537464, 229.88428843956595, 3...</td>\n",
       "      <td>[18237140#25, 18237140#25, 18237140#25, 182371...</td>\n",
       "      <td>[0.0, 5.686807374218478, 14.242079547476024, 2...</td>\n",
       "    </tr>\n",
       "    <tr>\n",
       "      <th>1</th>\n",
       "      <td>2020-08-10 13:40:07</td>\n",
       "      <td>2020-08-10 13:57:35</td>\n",
       "      <td>1048.0</td>\n",
       "      <td>[271.3, 272.8, 274.6, 276.8, 279.6, 281.9, 284...</td>\n",
       "      <td>[0.0, 0.0, 0.0, 0.0, 0.0, 0.0, 0.0, 0.0, 0.0, ...</td>\n",
       "      <td>[8000.0, 8000.0, 8000.0, 8000.0, 8000.0, 8000....</td>\n",
       "      <td>[4.1, 4.05, 4.15, 4.1, 4.1, 4.25, 4.1, 4.1, 4....</td>\n",
       "      <td>16.875</td>\n",
       "      <td>[(45.000419, -93.217756), (45.000417, -93.2177...</td>\n",
       "      <td>[(34559009, 33323569, 0), (33323569, 695998770...</td>\n",
       "      <td>[0, 1, 2, 3, 4, 5, 6, 7, 8, 9, 10, 11, 12, 13,...</td>\n",
       "      <td>[(34559009, 33323569, 0), (34559009, 33323569,...</td>\n",
       "      <td>[0.0, 7.133007841291272, 12.904106082362334, 1...</td>\n",
       "      <td>[0.0, 130.41893294003683, 270.15292723619507, ...</td>\n",
       "      <td>[-202308024#14, -202308024#14, -202308024#14, ...</td>\n",
       "      <td>[0.0, 7.133123569088057, 15.077786642918364, 1...</td>\n",
       "    </tr>\n",
       "  </tbody>\n",
       "</table>\n",
       "</div>"
      ],
      "text/plain": [
       "      trip_start_time       trip_end_time  travel_time  \\\n",
       "0 2020-08-10 12:28:47 2020-08-10 13:13:17       2670.0   \n",
       "1 2020-08-10 13:40:07 2020-08-10 13:57:35       1048.0   \n",
       "\n",
       "                                    altitude_profile  \\\n",
       "0  [255.7, 255.2, 254.7, 254.2, 253.8, 252.9, 252...   \n",
       "1  [271.3, 272.8, 274.6, 276.8, 279.6, 281.9, 284...   \n",
       "\n",
       "                                    velocity_profile  \\\n",
       "0  [0.0, 0.0, 0.0, 0.0, 0.0, 0.0, 0.0, 0.0, 0.0, ...   \n",
       "1  [0.0, 0.0, 0.0, 0.0, 0.0, 0.0, 0.0, 0.0, 0.0, ...   \n",
       "\n",
       "                                              weight  \\\n",
       "0  [30000.0, 30000.0, 30000.0, 30000.0, 30000.0, ...   \n",
       "1  [8000.0, 8000.0, 8000.0, 8000.0, 8000.0, 8000....   \n",
       "\n",
       "                                          total_fuel  ambTemperature  \\\n",
       "0  [4.15, 4.15, 4.05, 4.1, 3.75, 3.8, 5.3, 6.25, ...          15.188   \n",
       "1  [4.1, 4.05, 4.15, 4.1, 4.1, 4.25, 4.1, 4.1, 4....          16.875   \n",
       "\n",
       "                                          trajectory  \\\n",
       "0  [(44.788085, -93.462496), (44.78809, -93.46249...   \n",
       "1  [(45.000419, -93.217756), (45.000417, -93.2177...   \n",
       "\n",
       "                                        matched_path  \\\n",
       "0  [(8146751356, 188063558, 0), (188063558, 18805...   \n",
       "1  [(34559009, 33323569, 0), (33323569, 695998770...   \n",
       "\n",
       "                                       coordinate_id  \\\n",
       "0  [202, 203, 204, 205, 206, 207, 208, 209, 210, ...   \n",
       "1  [0, 1, 2, 3, 4, 5, 6, 7, 8, 9, 10, 11, 12, 13,...   \n",
       "\n",
       "                                             road_id  \\\n",
       "0  [(188055018, 9421214164, 0), (188055018, 94212...   \n",
       "1  [(34559009, 33323569, 0), (34559009, 33323569,...   \n",
       "\n",
       "                                    fastsim_velocity  \\\n",
       "0  [0.0, 5.686715111455639, 11.393352186998952, 1...   \n",
       "1  [0.0, 7.133007841291272, 12.904106082362334, 1...   \n",
       "\n",
       "                                       fastsim_power  \\\n",
       "0  [0.0, 95.82343083537464, 229.88428843956595, 3...   \n",
       "1  [0.0, 130.41893294003683, 270.15292723619507, ...   \n",
       "\n",
       "                                           sumo_path  \\\n",
       "0  [18237140#25, 18237140#25, 18237140#25, 182371...   \n",
       "1  [-202308024#14, -202308024#14, -202308024#14, ...   \n",
       "\n",
       "                                       sumo_velocity  \n",
       "0  [0.0, 5.686807374218478, 14.242079547476024, 2...  \n",
       "1  [0.0, 7.133123569088057, 15.077786642918364, 1...  "
      ]
     },
     "execution_count": 23,
     "metadata": {},
     "output_type": "execute_result"
    }
   ],
   "source": [
    "processed_df.head(2)"
   ]
  },
  {
   "cell_type": "code",
   "execution_count": 32,
   "id": "bronze-supplement",
   "metadata": {},
   "outputs": [],
   "source": [
    "net_file = 'data/Minneapolis.net.xml'\n",
    "sumo_net = sumolib.net.readNet(net_file)"
   ]
  },
  {
   "cell_type": "code",
   "execution_count": 36,
   "id": "biblical-grass",
   "metadata": {},
   "outputs": [
    {
     "data": {
      "text/plain": [
       "[(0.0, 0.0), (139094.49, 152571.63)]"
      ]
     },
     "execution_count": 36,
     "metadata": {},
     "output_type": "execute_result"
    }
   ],
   "source": [
    "sumo_net.getBBoxXY()"
   ]
  },
  {
   "cell_type": "code",
   "execution_count": 80,
   "id": "mineral-silly",
   "metadata": {},
   "outputs": [],
   "source": [
    "# Download the openstreet graph within the following bounding box (the same as map-matching):\n",
    "# # bounding_box = {\n",
    "# #         'min_latitude': 44.403672,\n",
    "# #         'max_latitude': 45.450154,\n",
    "# #         'min_longitude': -94.073366,\n",
    "# #         'max_longitude': -92.696696\n",
    "# #     }\n",
    "# geojson_file = 'results/bounding_box_mn.geojson'\n",
    "# geofence = Geofence.from_geojson(geojson_file)\n",
    "# osmnx_net = ox.graph_from_polygon(\n",
    "#         geofence.geometry, network_type='drive'\n",
    "#     )"
   ]
  },
  {
   "cell_type": "code",
   "execution_count": 81,
   "id": "rough-partner",
   "metadata": {},
   "outputs": [],
   "source": [
    "node_gdf, edge_gdf = ox.utils_graph.graph_to_gdfs(osmnx_net)"
   ]
  },
  {
   "cell_type": "code",
   "execution_count": 83,
   "id": "confirmed-ontario",
   "metadata": {},
   "outputs": [
    {
     "data": {
      "text/html": [
       "<div>\n",
       "<style scoped>\n",
       "    .dataframe tbody tr th:only-of-type {\n",
       "        vertical-align: middle;\n",
       "    }\n",
       "\n",
       "    .dataframe tbody tr th {\n",
       "        vertical-align: top;\n",
       "    }\n",
       "\n",
       "    .dataframe thead th {\n",
       "        text-align: right;\n",
       "    }\n",
       "</style>\n",
       "<table border=\"1\" class=\"dataframe\">\n",
       "  <thead>\n",
       "    <tr style=\"text-align: right;\">\n",
       "      <th></th>\n",
       "      <th></th>\n",
       "      <th>osmid</th>\n",
       "      <th>name</th>\n",
       "      <th>highway</th>\n",
       "      <th>oneway</th>\n",
       "      <th>reversed</th>\n",
       "      <th>length</th>\n",
       "      <th>geometry</th>\n",
       "      <th>ref</th>\n",
       "      <th>lanes</th>\n",
       "      <th>access</th>\n",
       "      <th>maxspeed</th>\n",
       "      <th>bridge</th>\n",
       "      <th>junction</th>\n",
       "      <th>tunnel</th>\n",
       "      <th>area</th>\n",
       "      <th>width</th>\n",
       "    </tr>\n",
       "    <tr>\n",
       "      <th>v</th>\n",
       "      <th>key</th>\n",
       "      <th></th>\n",
       "      <th></th>\n",
       "      <th></th>\n",
       "      <th></th>\n",
       "      <th></th>\n",
       "      <th></th>\n",
       "      <th></th>\n",
       "      <th></th>\n",
       "      <th></th>\n",
       "      <th></th>\n",
       "      <th></th>\n",
       "      <th></th>\n",
       "      <th></th>\n",
       "      <th></th>\n",
       "      <th></th>\n",
       "      <th></th>\n",
       "    </tr>\n",
       "  </thead>\n",
       "  <tbody>\n",
       "    <tr>\n",
       "      <th>33323569</th>\n",
       "      <th>0</th>\n",
       "      <td>202308024</td>\n",
       "      <td>Northeast Hoover Street</td>\n",
       "      <td>unclassified</td>\n",
       "      <td>False</td>\n",
       "      <td>True</td>\n",
       "      <td>226.354</td>\n",
       "      <td>LINESTRING (-93.21853 45.00079, -93.21838 45.0...</td>\n",
       "      <td>NaN</td>\n",
       "      <td>2</td>\n",
       "      <td>NaN</td>\n",
       "      <td>20 mph</td>\n",
       "      <td>NaN</td>\n",
       "      <td>NaN</td>\n",
       "      <td>NaN</td>\n",
       "      <td>NaN</td>\n",
       "      <td>NaN</td>\n",
       "    </tr>\n",
       "  </tbody>\n",
       "</table>\n",
       "</div>"
      ],
      "text/plain": [
       "                  osmid                     name       highway oneway  \\\n",
       "v        key                                                            \n",
       "33323569 0    202308024  Northeast Hoover Street  unclassified  False   \n",
       "\n",
       "             reversed   length  \\\n",
       "v        key                     \n",
       "33323569 0       True  226.354   \n",
       "\n",
       "                                                       geometry  ref lanes  \\\n",
       "v        key                                                                 \n",
       "33323569 0    LINESTRING (-93.21853 45.00079, -93.21838 45.0...  NaN     2   \n",
       "\n",
       "             access maxspeed bridge junction tunnel area width  \n",
       "v        key                                                    \n",
       "33323569 0      NaN   20 mph    NaN      NaN    NaN  NaN   NaN  "
      ]
     },
     "execution_count": 83,
     "metadata": {},
     "output_type": "execute_result"
    }
   ],
   "source": [
    "edge_gdf.loc[34559009]"
   ]
  },
  {
   "cell_type": "code",
   "execution_count": 85,
   "id": "charitable-exclusive",
   "metadata": {},
   "outputs": [],
   "source": [
    "# save openstreet map:\n",
    "osm_file_path = \"data/maps/minneapolis.graphml\"\n",
    "ox.io.save_graphml(osmnx_net, osm_file_path)"
   ]
  },
  {
   "cell_type": "code",
   "execution_count": null,
   "id": "virtual-receptor",
   "metadata": {},
   "outputs": [],
   "source": [
    "# load openstreet map:\n",
    "osm_file_path = \"data/maps/minneapolis.graphml\"\n",
    "osmnx_net = ox.io.load_graphml(osm_file_path)"
   ]
  },
  {
   "cell_type": "code",
   "execution_count": 28,
   "id": "electronic-subcommittee",
   "metadata": {},
   "outputs": [],
   "source": [
    "# convert the sumo_path from the edge_id representation to (origin_node_id, dest_node_id) pair"
   ]
  },
  {
   "cell_type": "code",
   "execution_count": 30,
   "id": "becoming-management",
   "metadata": {},
   "outputs": [],
   "source": [
    "# extract the valid road_id, total_fuel, velocity_profile, altitude_profile using the coordinate_id\n",
    "# adjust the trip_start_time accordingly"
   ]
  },
  {
   "cell_type": "code",
   "execution_count": 31,
   "id": "equipped-uruguay",
   "metadata": {},
   "outputs": [],
   "source": [
    "# for a node pair in road_id, if that both the origin node and the dest node exist in sumo_path, then it is a valid edge for training "
   ]
  },
  {
   "cell_type": "code",
   "execution_count": null,
   "id": "unsigned-beverage",
   "metadata": {},
   "outputs": [],
   "source": []
  }
 ],
 "metadata": {
  "kernelspec": {
   "display_name": "syntheticDataGen",
   "language": "python",
   "name": "syntheticdata"
  },
  "language_info": {
   "codemirror_mode": {
    "name": "ipython",
    "version": 3
   },
   "file_extension": ".py",
   "mimetype": "text/x-python",
   "name": "python",
   "nbconvert_exporter": "python",
   "pygments_lexer": "ipython3",
   "version": "3.8.17"
  }
 },
 "nbformat": 4,
 "nbformat_minor": 5
}
